{
  "nbformat": 4,
  "nbformat_minor": 0,
  "metadata": {
    "colab": {
      "name": "main.ipynb",
      "provenance": [],
      "collapsed_sections": []
    },
    "kernelspec": {
      "name": "python3",
      "display_name": "Python 3"
    },
    "language_info": {
      "name": "python"
    }
  },
  "cells": [
    {
      "cell_type": "code",
      "metadata": {
        "colab": {
          "base_uri": "https://localhost:8080/"
        },
        "id": "Nco3U07QYD3F",
        "outputId": "a426532d-f567-4dff-d8e3-be53ac473b9c"
      },
      "source": [
        "!pip install pdf2image\n",
        "!pip install img2pdf\n",
        "!apt-get install poppler-utils\n",
        "\n",
        "from pathlib import Path\n",
        "from pdf2image import convert_from_path\n",
        "import img2pdf\n",
        "from PIL import Image \n",
        "from google.colab import files\n",
        "import cv2\n",
        "import os\n",
        "import numpy as np\n",
        "from natsort import natsorted\n",
        "import shutil"
      ],
      "execution_count": 30,
      "outputs": [
        {
          "output_type": "stream",
          "name": "stdout",
          "text": [
            "Requirement already satisfied: pdf2image in /usr/local/lib/python3.7/dist-packages (1.16.0)\n",
            "Requirement already satisfied: pillow in /usr/local/lib/python3.7/dist-packages (from pdf2image) (7.1.2)\n",
            "Requirement already satisfied: img2pdf in /usr/local/lib/python3.7/dist-packages (0.4.3)\n",
            "Requirement already satisfied: Pillow in /usr/local/lib/python3.7/dist-packages (from img2pdf) (7.1.2)\n",
            "Requirement already satisfied: pikepdf in /usr/local/lib/python3.7/dist-packages (from img2pdf) (4.2.0)\n",
            "Requirement already satisfied: lxml>=4.0 in /usr/local/lib/python3.7/dist-packages (from pikepdf->img2pdf) (4.2.6)\n",
            "Reading package lists... Done\n",
            "Building dependency tree       \n",
            "Reading state information... Done\n",
            "poppler-utils is already the newest version (0.62.0-2ubuntu2.12).\n",
            "0 upgraded, 0 newly installed, 0 to remove and 37 not upgraded.\n"
          ]
        }
      ]
    },
    {
      "cell_type": "code",
      "metadata": {
        "id": "L4CP33uQTDoS"
      },
      "source": [
        "file = files.upload() #pdfアップロード\n"
      ],
      "execution_count": null,
      "outputs": []
    },
    {
      "cell_type": "code",
      "metadata": {
        "id": "ahZqxzowaj7v"
      },
      "source": [
        "base_path = \"/content\"\n",
        "# PDFファイル名.pdf\n",
        "pdf_filename = next(iter(file))\n",
        "#画像の保存先\n",
        "output_dir = Path(\"/content/pdfdivider/images\")\n",
        "# 出力するPDFの名前(/content/outpit_元ファイル名.pdf)\n",
        "output_filename = os.path.join(base_path,('output_'+pdf_filename))"
      ],
      "execution_count": 25,
      "outputs": []
    },
    {
      "cell_type": "code",
      "metadata": {
        "id": "z2_Od-72h5eW"
      },
      "source": [
        "#画像を保存するディレクトリ作成\n",
        "output_dir.mkdir(exist_ok=True)\n",
        "\n",
        "#pdfをndarrayに変換\n",
        "images = list(map(np.asarray, convert_from_path(os.path.join(base_path, pdf_filename),fmt='jpeg',output_file=os.path.join(base_path, pdf_filename))))\n",
        "\n",
        "#画像を分割して保存\n",
        "for j,image in enumerate(images): \n",
        "  im_rgb = cv2.cvtColor(image, cv2.COLOR_BGR2RGB) #RGに変換\n",
        "  rows = 3  # 行数\n",
        "  cols = 3  # 列数\n",
        "  chunks = []\n",
        "  for row_img in np.array_split(im_rgb, rows, axis=0):\n",
        "      for chunk in np.array_split(row_img, cols, axis=1):\n",
        "          chunks.append(chunk)\n",
        "  for i, chunk in enumerate(chunks):\n",
        "    save_path = output_dir / f\"chunk{j:02d}_{i:02d}.jpeg\"\n",
        "    cv2.imwrite(str(save_path), chunk)"
      ],
      "execution_count": 28,
      "outputs": []
    },
    {
      "cell_type": "code",
      "metadata": {
        "id": "NW3zsKvPk6pa"
      },
      "source": [
        "with open(output_filename,\"wb\") as f:\n",
        "  # 画像をpdfに書き出し\n",
        "  f.write(img2pdf.convert([Image.open(str(output_dir / j)).filename for j in natsorted(os.listdir(output_dir))]))"
      ],
      "execution_count": 31,
      "outputs": []
    },
    {
      "cell_type": "code",
      "metadata": {
        "id": "zYY8MP1CtT2U"
      },
      "source": [
        "shutil.rmtree(output_dir) #画像を一括削除"
      ],
      "execution_count": 26,
      "outputs": []
    },
    {
      "cell_type": "code",
      "metadata": {
        "id": "9NEwmQqUGhdi"
      },
      "source": [
        ""
      ],
      "execution_count": null,
      "outputs": []
    }
  ]
}